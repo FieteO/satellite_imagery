{
 "cells": [
  {
   "cell_type": "code",
   "execution_count": 3,
   "id": "c4832e83",
   "metadata": {},
   "outputs": [],
   "source": [
    "import os\n",
    "import re"
   ]
  },
  {
   "cell_type": "code",
   "execution_count": 6,
   "id": "c3656fe4",
   "metadata": {},
   "outputs": [
    {
     "name": "stdout",
     "output_type": "stream",
     "text": [
      "id: 6010_0_0 & imagepath: /Users/arturgergert/Documents/Studium/Master/3.\\ Semester/BigData_Analyseprojekt/satellite_imagery/data.nosync/three_band/6010_0_0.tif & id_full: 6010_0_0.tif\n"
     ]
    }
   ],
   "source": [
    "image_path = '/Users/arturgergert/Documents/Studium/Master/3.\\ Semester/BigData_Analyseprojekt/satellite_imagery/data.nosync/three_band/6010_0_0.tif' \n",
    "\n",
    "id_full = os.path.basename(image_path)\n",
    "id = re.split('_?[A-Z]?\\.',id_full)[0]\n",
    "print (f'id: {id} & imagepath: {image_path} & id_full: {id_full}')\n",
    "#print(id_full)"
   ]
  },
  {
   "cell_type": "code",
   "execution_count": 12,
   "id": "d713d55c",
   "metadata": {},
   "outputs": [
    {
     "ename": "ModuleNotFoundError",
     "evalue": "No module named 'helpers.py'; 'helpers' is not a package",
     "output_type": "error",
     "traceback": [
      "\u001b[0;31m---------------------------------------------------------------------------\u001b[0m",
      "\u001b[0;31mModuleNotFoundError\u001b[0m                       Traceback (most recent call last)",
      "\u001b[0;32m/var/folders/w7/l_9jdt4n6lgcpwsh5114lbxm0000gn/T/ipykernel_2018/987921019.py\u001b[0m in \u001b[0;36m<module>\u001b[0;34m\u001b[0m\n\u001b[1;32m      7\u001b[0m \u001b[0;32mimport\u001b[0m \u001b[0mmatplotlib\u001b[0m\u001b[0;34m.\u001b[0m\u001b[0mpyplot\u001b[0m \u001b[0;32mas\u001b[0m \u001b[0mplt\u001b[0m\u001b[0;34m\u001b[0m\u001b[0;34m\u001b[0m\u001b[0m\n\u001b[1;32m      8\u001b[0m \u001b[0;34m\u001b[0m\u001b[0m\n\u001b[0;32m----> 9\u001b[0;31m \u001b[0;32mfrom\u001b[0m \u001b[0mhelpers\u001b[0m\u001b[0;34m.\u001b[0m\u001b[0mpy\u001b[0m \u001b[0;32mimport\u001b[0m \u001b[0mget_rgb_from_m_band\u001b[0m\u001b[0;34m,\u001b[0m \u001b[0mmask_to_polygons\u001b[0m\u001b[0;34m,\u001b[0m \u001b[0mmask_for_polygons\u001b[0m\u001b[0;34m\u001b[0m\u001b[0;34m\u001b[0m\u001b[0m\n\u001b[0m\u001b[1;32m     10\u001b[0m \u001b[0;32mfrom\u001b[0m \u001b[0mhelpers\u001b[0m\u001b[0;34m.\u001b[0m\u001b[0mpy\u001b[0m \u001b[0;32mimport\u001b[0m \u001b[0mstretch_n\u001b[0m\u001b[0;34m\u001b[0m\u001b[0;34m\u001b[0m\u001b[0m\n\u001b[1;32m     11\u001b[0m \u001b[0;34m\u001b[0m\u001b[0m\n",
      "\u001b[0;31mModuleNotFoundError\u001b[0m: No module named 'helpers.py'; 'helpers' is not a package"
     ]
    }
   ],
   "source": [
    "import tensorflow as tf\n",
    "import numpy as np\n",
    "import json\n",
    "import requests\n",
    "import os\n",
    "import re\n",
    "import matplotlib.pyplot as plt\n",
    "\n",
    "from helpers.py import get_rgb_from_m_band, mask_to_polygons, mask_for_polygons\n",
    "from helpers.py import stretch_n\n",
    "\n",
    "N_Cls = 10\n",
    "SIZE=128\n",
    "MODEL_URI='http://localhost:8501/v1/models/unet:predict'\n",
    "#CLASSES = ['Cat', 'Dog']\n",
    "\n",
    "def get_prediction(image_path, image_size=160):\n",
    "\n",
    "    #image_path is splitted to recieve the id\n",
    "    id_full = os.path.basename(image_path)\n",
    "    id = re.split('_?[A-Z]?\\.',id_full)[0]\n",
    "    print (f'id: {id} & imagepath: {image_path} & id_full: {id_full}')\n",
    "    \"\"\" Ab hier der Ausschnitt aus predict_id\"\"\"\n",
    "\n",
    "    img = get_rgb_from_m_band(image_id=id, inDir='data.nosync')\n",
    "    x = stretch_n(img)\n",
    "\n",
    "    cnv = np.zeros((960, 960, 8)).astype(np.float32)\n",
    "    prd = np.zeros((N_Cls, 960, 960)).astype(np.float32)\n",
    "    cnv[:img.shape[0], :img.shape[1], :] = x\n",
    "\n",
    "    for i in range(0, 6):\n",
    "        line = []\n",
    "        for j in range(0, 6):\n",
    "            line.append(cnv[i * image_size:(i + 1) * image_size, j * image_size:(j + 1) * image_size])\n",
    "\n",
    "        x = 2 * np.transpose(line, (0, 3, 1, 2)) - 1\n",
    "\n",
    "        \"\"\" Bis hier der Ausschnitt aus predict_id\"\"\"\n",
    "\n",
    "        \"\"\" TF-Modelserver Ansprechen\"\"\"\n",
    "\n",
    "        data = json.dumps({\n",
    "            'instances': x.tolist()\n",
    "        })\n",
    "        response = requests.post(MODEL_URI, data=data.encode('utf-8'))\n",
    "        result = json.loads(response.text)\n",
    "        \n",
    "    return result\n",
    "\n",
    "print(get_prediction(image_path=image_path))"
   ]
  },
  {
   "cell_type": "code",
   "execution_count": null,
   "id": "850d31ab",
   "metadata": {},
   "outputs": [],
   "source": []
  }
 ],
 "metadata": {
  "kernelspec": {
   "display_name": "bdap",
   "language": "python",
   "name": "bdap"
  },
  "language_info": {
   "codemirror_mode": {
    "name": "ipython",
    "version": 3
   },
   "file_extension": ".py",
   "mimetype": "text/x-python",
   "name": "python",
   "nbconvert_exporter": "python",
   "pygments_lexer": "ipython3",
   "version": "3.8.12"
  }
 },
 "nbformat": 4,
 "nbformat_minor": 5
}
